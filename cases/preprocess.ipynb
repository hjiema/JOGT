{
 "cells": [
  {
   "cell_type": "code",
   "execution_count": 4,
   "metadata": {
    "collapsed": true
   },
   "outputs": [],
   "source": [
    "import os.path\n",
    "\n",
    "import pandas as pd\n",
    "import numpy as np\n",
    "import random"
   ]
  },
  {
   "cell_type": "code",
   "execution_count": 5,
   "metadata": {
    "collapsed": false,
    "pycharm": {
     "name": "#%%\n"
    }
   },
   "outputs": [],
   "source": [
    "DATA_DIR = \"/hydra/datasets\"\n",
    "# 从给定的csv文件中加载数据，并返回pandas数据帧DataFrame。\n",
    "def get_df(file, header=None):\n",
    "    df = pd.read_csv(file, header=None)\n",
    "    # df.columns = DF_HEADER.get(key, df.columns)\n",
    "    df.columns = pd.read_csv(\"{}.header\".format(file.split('.csv')[0])).columns if header is None else header\n",
    "    return df"
   ]
  },
  {
   "cell_type": "code",
   "execution_count": 6,
   "metadata": {
    "collapsed": false,
    "pycharm": {
     "name": "#%%\n"
    }
   },
   "outputs": [],
   "source": [
    "def get_df_one_inst(dft, dfj):\n",
    "    # 过滤掉太短的任务，它们有可能是inference任务。 返回筛选和处理后的数据帧df_target.\n",
    "    min_run_time = 1000.\n",
    "    # 合并job_name相同的dfa和dfj，且仅保留具有相同job_name的行，对于不相同的默认舍弃。\n",
    "    dfa = dft.merge(dfj, on=['job_name'], suffixes = ['','_j'])\n",
    "    dfa.loc[dfa.start_time==0, 'start_time'] = np.nan\n",
    "    # 将start_time==0的行的'start_time'和'end_time'设置为NaN。\n",
    "    dfa.loc[dfa.start_time==0, 'end_time'] = np.nan\n",
    "    # 计算差值，计算任务运行时间。\n",
    "    dfa['runtime'] = dfa.end_time - dfa.start_time\n",
    "    # 筛选出目标任务数据行，状态为Terminated，GPU类型不为MISC，计划使用的GPU数量为100，实例数量为1.\n",
    "    df_target = dfa[\n",
    "        (dfa['status'] == 'Terminated') &\n",
    "        (dfa['gpu_type'] != 'MISC') &\n",
    "        (dfa['plan_gpu'] == 100.0) &\n",
    "        (dfa['inst_num'] == 1.0) &\n",
    "        (dfa['end_time'] - dfa['start_time'] >= min_run_time) &\n",
    "        (dfa['task_name'].isin(['tensorflow', 'PyTorchWorker', 'worker']))]\n",
    "    # 将筛选后的数据帧按start_time_j排序，并计算每个任务与第一个任务的开始时间差值，作为提交时间。\n",
    "    df_target = df_target.sort_values(['start_time_j'])\n",
    "    df_target['norm_job_submit_time'] = df_target.start_time_j - df_target.iloc[0]['start_time_j'].item()\n",
    "    # 去除重复行，只保留第一次出现。\n",
    "    df_target = df_target.drop_duplicates(['job_name'], keep='first')\n",
    "    # 打印不同GPU类型的行数\n",
    "    #print(\"all\", df_target.shape)\n",
    "    #print(\"GPU types:\", df_target['gpu_type'].unique())\n",
    "    print(\"V100 shape\", df_target[df_target['gpu_type'] == 'V100M32'].shape)\n",
    "    #print(\"V100 shape2\", df_target[df_target['gpu_type'] == 'V100'].shape)\n",
    "    #print(\"P100 shape\", df_target[df_target['gpu_type'] == 'P100'].shape)\n",
    "    print(\"T4 shape\", df_target[df_target['gpu_type'] == 'T4'].shape)\n",
    "    # 将V100M32类型替换为V100，\n",
    "    df_target.loc[df_target.gpu_type == 'V100M32', 'gpu_type'] = 'V100'\n",
    "    #print(\"GPU types:\", df_target['gpu_type'].unique())\n",
    "    return df_target"
   ]
  },
  {
   "cell_type": "code",
   "execution_count": 7,
   "metadata": {
    "collapsed": false,
    "pycharm": {
     "name": "#%%\n"
    }
   },
   "outputs": [],
   "source": [
    "def gen_ddl_and_gpu_runtimes(df_one_inst):\n",
    "    # 生成一个新的DataFrame，包含每个任务在不同类型的GPU上的运行时间和截止时间。\n",
    "    gpu_types = [str(t) for t in df_one_inst['gpu_type'].unique()]\n",
    "    \"\"\"\n",
    "    configs\n",
    "    \"\"\"\n",
    "    # 不同GPU的运行时间比例，将任务的标准运行时间转换为特定GPU上的运行时间。\n",
    "    runtimes = {\n",
    "        'T4': (1, 1),\n",
    "        'P100': (1.4, 2.),\n",
    "        'V100': (2.4, 2.66),\n",
    "    }\n",
    "    # 检查runtimes字典中的键是否与gpu_types中的GPU类型匹配。如果不匹配，程序将抛出一个异常。\n",
    "    assert set(runtimes.keys()) == set(list(gpu_types))\n",
    "    ddl_ratio = 10 # 截止时间比例\n",
    "    ddl_range = (1.2, 3.0) # 截止时间范围\n",
    "    jobs_count = 5000 # 任务数量\n",
    "    submit_together = True # 任务是否可以一起提交。\n",
    "    df_one_inst = df_one_inst[['job_name', 'gpu_type', 'runtime', 'norm_job_submit_time']]\n",
    "    df_one_inst = df_one_inst[:jobs_count]\n",
    "    # 选取特定的列和行数。\n",
    "    print(df_one_inst.shape)\n",
    "    # 打印前100行中的所有列\n",
    "    print(\"print\", df_one_inst.iloc[0:100, :])\n",
    "    \"\"\"\n",
    "    end configs\n",
    "    \"\"\"\n",
    "    # 用于生成一个任务从from_gpu类型的GPU转到to_gpu类型的GPU时的运行时间。\n",
    "    def gen_runtime(from_gpu, to_gpu, origin_runtime):\n",
    "        if from_gpu == to_gpu:\n",
    "            return origin_runtime\n",
    "        if from_gpu not in gpu_types:\n",
    "            print(\"not in gpu_types:\", from_gpu)\n",
    "        to_rand = random.uniform(*runtimes[to_gpu])\n",
    "        from_rand = random.uniform(*runtimes[from_gpu])\n",
    "        return int(origin_runtime * to_rand / from_rand)\n",
    "    # 用于生成一个基于任务提交时间、运行时间和随机因子的截止时间。\n",
    "    def gen_ddl(norm_submit_time, runtime):\n",
    "        if random.randint(0, 100) < ddl_ratio:\n",
    "            return int(norm_submit_time + runtime * random.uniform(*ddl_range))\n",
    "        return np.inf\n",
    "    # 将原始GPU类型映射到新类型。\n",
    "    fix_gpu = {\n",
    "        'T4': 'A100',\n",
    "        'P100': 'GTX2080Ti',\n",
    "        'V100': 'V100'\n",
    "    }\n",
    "    for gpu_type in gpu_types:\n",
    "        # df.loc[row_labels, column_labels]按标签选择行/列\n",
    "        df_one_inst.loc[:, fix_gpu[gpu_type]] = df_one_inst.apply(lambda x: gen_runtime(x.gpu_type, gpu_type, x.runtime), axis=1)\n",
    "        df_one_inst.loc[:, 'ddl'] = df_one_inst.apply(lambda x: gen_ddl(x.norm_job_submit_time, x.runtime), axis=1)\n",
    "        # axis=1表示按行运行函数，axis=0表示按列运行函数。\n",
    "\n",
    "    if submit_together:\n",
    "        df_one_inst = df_one_inst.iloc[np.random.permutation(len(df_one_inst))]\n",
    "        # 同时提交，则norm_job_submit_time实际值应为0，故应调整ddl的值为ddl-norm_job_submit_time。\n",
    "        df_one_inst.loc[:, 'ddl'] = df_one_inst.apply(lambda x: x['ddl'] - x['norm_job_submit_time'], axis=1)\n",
    "        # 因为是同时提交作业，故norm_job_submit_time应设置为0.\n",
    "        df_one_inst.loc[:, 'norm_job_submit_time'] = df_one_inst.apply(lambda x: 0, axis=1)\n",
    "    # 修改后的GPU列表类型\n",
    "    fix_gpu_types = [fix_gpu[t] for t in gpu_types]\n",
    "    df_output = df_one_inst[['job_name', 'norm_job_submit_time', 'ddl', *fix_gpu_types]]\n",
    "    # print(\"output: \", df_output.shape)\n",
    "    to_csv(df_output, f\"case_{jobs_count}_all_{ddl_ratio}_ddl.csv\")"
   ]
  },
  {
   "cell_type": "code",
   "execution_count": 8,
   "metadata": {
    "collapsed": false,
    "pycharm": {
     "name": "#%%\n"
    }
   },
   "outputs": [],
   "source": [
    "def to_csv(df, name):\n",
    "    df = df.reset_index(drop=True)\n",
    "    df.to_csv(name)"
   ]
  },
  {
   "cell_type": "code",
   "execution_count": 9,
   "metadata": {
    "collapsed": false,
    "pycharm": {
     "name": "#%%\n"
    }
   },
   "outputs": [
    {
     "name": "stdout",
     "output_type": "stream",
     "text": [
      "V100 shape (3603, 17)\n",
      "T4 shape (10988, 17)\n",
      "                        job_name      task_name  inst_num      status  \\\n",
      "273324  34b3d819023ea21e28afd50f     tensorflow       1.0  Terminated   \n",
      "200005  af3b0f5e810838d6c33840e1     tensorflow       1.0  Terminated   \n",
      "88185   8b3581e39780f46e28e48c4a  PyTorchWorker       1.0  Terminated   \n",
      "296351  e3789c5e546bbbe82007127f  PyTorchWorker       1.0  Terminated   \n",
      "388408  8dc5b00629f823cf8d30cade  PyTorchWorker       1.0  Terminated   \n",
      "\n",
      "        start_time   end_time  plan_cpu   plan_mem  plan_gpu gpu_type  \\\n",
      "273324    925461.0  1101832.0     600.0  29.296875     100.0       T4   \n",
      "200005    991185.0  1101105.0     900.0  29.296875     100.0       T4   \n",
      "88185     991707.0  1232078.0    1800.0  58.593750     100.0     P100   \n",
      "296351    991774.0  1224062.0    1800.0  58.593750     100.0     P100   \n",
      "388408    991846.0  1149509.0    1800.0  58.593750     100.0     P100   \n",
      "\n",
      "                                                  inst_id          user  \\\n",
      "273324  daa91577009c8ebd1fdc63d81113bd4b954bbf338ca476...  74238accb90b   \n",
      "200005  71ac5edf97e8af81c324ff263c60512034138f41368e16...  74238accb90b   \n",
      "88185   a4928bb64b9d7c16e8a3da7d3b9ca5d0fceac598c4c550...  74238accb90b   \n",
      "296351  7b607f2c0057cf3a7a81900877f03efb6d4e44b89256f2...  74238accb90b   \n",
      "388408  573723e604c957929beacad58c4aa97e203068615badce...  74238accb90b   \n",
      "\n",
      "          status_j  start_time_j  end_time_j   runtime  norm_job_submit_time  \n",
      "273324  Terminated      925461.0   1101832.0  176371.0                   0.0  \n",
      "200005  Terminated      991185.0   1101105.0  109920.0               65724.0  \n",
      "88185   Terminated      991707.0   1232078.0  240371.0               66246.0  \n",
      "296351  Terminated      991774.0   1224062.0  232288.0               66313.0  \n",
      "388408  Terminated      991846.0   1149509.0  157663.0               66385.0  \n"
     ]
    }
   ],
   "source": [
    "def main():\n",
    "    dft = get_df(os.path.join(DATA_DIR, \"pai_task_table.csv\"))\n",
    "    dfj = get_df(os.path.join(DATA_DIR, \"pai_job_table.csv\"))\n",
    "    df = get_df_one_inst(dft, dfj)\n",
    "    print(df.head())\n",
    "    # gen_ddl_and_gpu_runtimes(df)\n",
    "\n",
    "if __name__ == '__main__':\n",
    "    main()"
   ]
  },
  {
   "cell_type": "code",
   "execution_count": 49,
   "metadata": {
    "collapsed": false,
    "pycharm": {
     "name": "#%%\n"
    }
   },
   "outputs": [
    {
     "name": "stdout",
     "output_type": "stream",
     "text": [
      "(6278, 17)\n"
     ]
    }
   ],
   "source": [
    "\n",
    "dft = get_df(os.path.join(DATA_DIR, \"pai_task_table.csv\"))\n",
    "dfj = get_df(os.path.join(DATA_DIR, \"pai_job_table.csv\"))\n",
    "df_one_inst = get_df_one_inst(dft, dfj)"
   ]
  },
  {
   "cell_type": "code",
   "execution_count": 50,
   "metadata": {
    "collapsed": false,
    "pycharm": {
     "name": "#%%\n"
    }
   },
   "outputs": [
    {
     "name": "stdout",
     "output_type": "stream",
     "text": [
      "Empty DataFrame\n",
      "Columns: [job_name, gpu_type, runtime, norm_job_submit_time]\n",
      "Index: []\n",
      "Empty DataFrame\n",
      "Columns: [job_name, norm_job_submit_time, ddl, T4, P100, V100]\n",
      "Index: []\n"
     ]
    }
   ],
   "source": [
    "gen_ddl_and_gpu_runtimes(df_one_inst)"
   ]
  }
 ],
 "metadata": {
  "kernelspec": {
   "display_name": "Python 3",
   "language": "python",
   "name": "python3"
  },
  "language_info": {
   "codemirror_mode": {
    "name": "ipython",
    "version": 3
   },
   "file_extension": ".py",
   "mimetype": "text/x-python",
   "name": "python",
   "nbconvert_exporter": "python",
   "pygments_lexer": "ipython3",
   "version": "3.9.2"
  }
 },
 "nbformat": 4,
 "nbformat_minor": 0
}
